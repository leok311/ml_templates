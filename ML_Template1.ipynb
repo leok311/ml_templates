{
 "cells": [
  {
   "cell_type": "markdown",
   "id": "837c02ba-8d05-4dc0-9c96-5d3daf47166c",
   "metadata": {},
   "source": [
    "## 1. Look at the big picture"
   ]
  },
  {
   "cell_type": "markdown",
   "id": "bcc88a55-bd82-4323-bc96-eac84628e139",
   "metadata": {},
   "source": [
    "### Frame the problem"
   ]
  },
  {
   "cell_type": "markdown",
   "id": "3b7e928c-3d9d-428e-bfc9-046f0b519da2",
   "metadata": {},
   "source": [
    "### Select a performance measure"
   ]
  },
  {
   "cell_type": "markdown",
   "id": "40d4c2e3-ff6c-4944-ac53-13b23f364412",
   "metadata": {},
   "source": [
    "## 2. Get the Data\n",
    "1. Download Data\n",
    "2. Quick look at structure\n",
    "3. Create test set"
   ]
  },
  {
   "cell_type": "markdown",
   "id": "f5f86469-7cac-42fc-8cea-953e308cb527",
   "metadata": {},
   "source": [
    "## 3. Visualise data\n",
    "1. Graphs\n",
    "2. Correlations\n",
    "3. Experimenting with attribute combinations"
   ]
  },
  {
   "cell_type": "markdown",
   "id": "4e719baa-ffe1-4b63-b52d-6a788ae85dc8",
   "metadata": {},
   "source": [
    "## 4. Prepare the data for ML algorithms\n",
    "1. Data cleaning\n",
    "2. Handling text and categorical data\n",
    "3. Custom transformers\n",
    "4. Feature scaling\n",
    "5. Transformation pipelines"
   ]
  },
  {
   "cell_type": "markdown",
   "id": "15e46b92-04c7-4431-8d34-5fa6d447ea0a",
   "metadata": {},
   "source": [
    "## 5. Select and train model\n",
    "1. Train and evaluate on training set\n",
    "2. Use CV"
   ]
  },
  {
   "cell_type": "markdown",
   "id": "9a875a89-8aa9-43ef-808b-b48291cd1159",
   "metadata": {},
   "source": [
    "## 6. Fine tuning model\n",
    "1. Grid search\n",
    "2. Randomised Search\n",
    "3. Ensemble methods\n",
    "4. Analyse the best models and their errors\n",
    "5. Evaluate your system on the test set"
   ]
  },
  {
   "cell_type": "markdown",
   "id": "c75f7af8-3a84-4d4e-80c8-082ce251e3bd",
   "metadata": {},
   "source": [
    "## 7. Launch, Monitor and Maintain Your System"
   ]
  },
  {
   "cell_type": "code",
   "execution_count": null,
   "id": "436005bb-d3c9-4946-b427-22c6a68bfce4",
   "metadata": {},
   "outputs": [],
   "source": []
  }
 ],
 "metadata": {
  "kernelspec": {
   "display_name": "Python 3",
   "language": "python",
   "name": "python3"
  },
  "language_info": {
   "codemirror_mode": {
    "name": "ipython",
    "version": 3
   },
   "file_extension": ".py",
   "mimetype": "text/x-python",
   "name": "python",
   "nbconvert_exporter": "python",
   "pygments_lexer": "ipython3",
   "version": "3.8.8"
  }
 },
 "nbformat": 4,
 "nbformat_minor": 5
}
